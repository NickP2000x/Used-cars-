{
 "cells": [
  {
   "cell_type": "code",
   "execution_count": 2,
   "metadata": {},
   "outputs": [],
   "source": [
    "import pandas as pd \n",
    "import matplotlib.pyplot as plt \n",
    "import matplotlib.ticker as mtick\n",
    "import numpy as np \n",
    "import seaborn as sns "
   ]
  },
  {
   "cell_type": "code",
   "execution_count": 3,
   "metadata": {},
   "outputs": [],
   "source": [
    "dat = pd.read_csv(\"used_car_dataset_cleaned.csv\")"
   ]
  },
  {
   "cell_type": "code",
   "execution_count": 4,
   "metadata": {},
   "outputs": [
    {
     "data": {
      "text/html": [
       "<div>\n",
       "<style scoped>\n",
       "    .dataframe tbody tr th:only-of-type {\n",
       "        vertical-align: middle;\n",
       "    }\n",
       "\n",
       "    .dataframe tbody tr th {\n",
       "        vertical-align: top;\n",
       "    }\n",
       "\n",
       "    .dataframe thead th {\n",
       "        text-align: right;\n",
       "    }\n",
       "</style>\n",
       "<table border=\"1\" class=\"dataframe\">\n",
       "  <thead>\n",
       "    <tr style=\"text-align: right;\">\n",
       "      <th></th>\n",
       "      <th>brand</th>\n",
       "      <th>fuel_type</th>\n",
       "      <th>model_date</th>\n",
       "      <th>vehicle_transmission</th>\n",
       "      <th>Car_name</th>\n",
       "      <th>Year</th>\n",
       "      <th>Location</th>\n",
       "      <th>mileage_from_odometer_km</th>\n",
       "      <th>vehicle_engine_cc</th>\n",
       "      <th>price_usd</th>\n",
       "    </tr>\n",
       "  </thead>\n",
       "  <tbody>\n",
       "    <tr>\n",
       "      <th>0</th>\n",
       "      <td>MG</td>\n",
       "      <td>Petrol</td>\n",
       "      <td>2021.0</td>\n",
       "      <td>Automatic</td>\n",
       "      <td>HS</td>\n",
       "      <td>2021</td>\n",
       "      <td>Lahore</td>\n",
       "      <td>6000.0</td>\n",
       "      <td>1490.0</td>\n",
       "      <td>23137.48</td>\n",
       "    </tr>\n",
       "    <tr>\n",
       "      <th>1</th>\n",
       "      <td>Toyota</td>\n",
       "      <td>Petrol</td>\n",
       "      <td>2012.0</td>\n",
       "      <td>Manual</td>\n",
       "      <td>Aygo</td>\n",
       "      <td>2012</td>\n",
       "      <td>Islamabad</td>\n",
       "      <td>68000.0</td>\n",
       "      <td>1000.0</td>\n",
       "      <td>5762.21</td>\n",
       "    </tr>\n",
       "    <tr>\n",
       "      <th>2</th>\n",
       "      <td>Honda</td>\n",
       "      <td>Petrol</td>\n",
       "      <td>2015.0</td>\n",
       "      <td>Automatic</td>\n",
       "      <td>City</td>\n",
       "      <td>2015</td>\n",
       "      <td>Lahore</td>\n",
       "      <td>150000.0</td>\n",
       "      <td>1300.0</td>\n",
       "      <td>9042.23</td>\n",
       "    </tr>\n",
       "    <tr>\n",
       "      <th>3</th>\n",
       "      <td>KIA</td>\n",
       "      <td>Petrol</td>\n",
       "      <td>2022.0</td>\n",
       "      <td>Automatic</td>\n",
       "      <td>Sorento</td>\n",
       "      <td>2022</td>\n",
       "      <td>Sialkot</td>\n",
       "      <td>18000.0</td>\n",
       "      <td>3500.0</td>\n",
       "      <td>31913.76</td>\n",
       "    </tr>\n",
       "    <tr>\n",
       "      <th>4</th>\n",
       "      <td>Toyota</td>\n",
       "      <td>Petrol</td>\n",
       "      <td>2015.0</td>\n",
       "      <td>Automatic</td>\n",
       "      <td>Corolla</td>\n",
       "      <td>2015</td>\n",
       "      <td>Rawalpindi</td>\n",
       "      <td>110000.0</td>\n",
       "      <td>1300.0</td>\n",
       "      <td>11879.01</td>\n",
       "    </tr>\n",
       "  </tbody>\n",
       "</table>\n",
       "</div>"
      ],
      "text/plain": [
       "    brand fuel_type  model_date vehicle_transmission  Car_name  Year  \\\n",
       "0      MG    Petrol      2021.0            Automatic       HS   2021   \n",
       "1  Toyota    Petrol      2012.0               Manual     Aygo   2012   \n",
       "2   Honda    Petrol      2015.0            Automatic     City   2015   \n",
       "3     KIA    Petrol      2022.0            Automatic  Sorento   2022   \n",
       "4  Toyota    Petrol      2015.0            Automatic  Corolla   2015   \n",
       "\n",
       "     Location  mileage_from_odometer_km  vehicle_engine_cc  price_usd  \n",
       "0      Lahore                    6000.0             1490.0   23137.48  \n",
       "1   Islamabad                   68000.0             1000.0    5762.21  \n",
       "2      Lahore                  150000.0             1300.0    9042.23  \n",
       "3     Sialkot                   18000.0             3500.0   31913.76  \n",
       "4  Rawalpindi                  110000.0             1300.0   11879.01  "
      ]
     },
     "execution_count": 4,
     "metadata": {},
     "output_type": "execute_result"
    }
   ],
   "source": [
    "dat.head()"
   ]
  },
  {
   "cell_type": "code",
   "execution_count": 5,
   "metadata": {},
   "outputs": [
    {
     "name": "stdout",
     "output_type": "stream",
     "text": [
      "<class 'pandas.core.frame.DataFrame'>\n",
      "RangeIndex: 54115 entries, 0 to 54114\n",
      "Data columns (total 10 columns):\n",
      " #   Column                    Non-Null Count  Dtype  \n",
      "---  ------                    --------------  -----  \n",
      " 0   brand                     54115 non-null  object \n",
      " 1   fuel_type                 54115 non-null  object \n",
      " 2   model_date                54115 non-null  float64\n",
      " 3   vehicle_transmission      54115 non-null  object \n",
      " 4   Car_name                  54115 non-null  object \n",
      " 5   Year                      54115 non-null  int64  \n",
      " 6   Location                  54115 non-null  object \n",
      " 7   mileage_from_odometer_km  54115 non-null  float64\n",
      " 8   vehicle_engine_cc         54115 non-null  float64\n",
      " 9   price_usd                 54115 non-null  float64\n",
      "dtypes: float64(4), int64(1), object(5)\n",
      "memory usage: 4.1+ MB\n"
     ]
    }
   ],
   "source": [
    "dat.info()"
   ]
  },
  {
   "attachments": {},
   "cell_type": "markdown",
   "metadata": {},
   "source": [
    "### EDA\n",
    "  \n",
    "  * make another dataset on description for the top 5-10 car brands in each year price time"
   ]
  },
  {
   "cell_type": "code",
   "execution_count": 6,
   "metadata": {},
   "outputs": [
    {
     "data": {
      "text/plain": [
       "array([2021, 2012, 2015, 2022, 2004, 2008, 2018, 2003, 2010, 2019, 2020,\n",
       "       2013, 2007, 1999, 2016, 2014, 1997, 2017, 2001, 2011, 1985, 1987,\n",
       "       1984, 2000, 2006, 1982, 2005, 1998, 1988, 1995, 2009, 1996, 1994,\n",
       "       1991, 1989, 1993, 2002, 1992, 1986, 1967, 1981, 1969, 1990, 1983,\n",
       "       1960, 1980, 2023, 1979, 1974, 1965, 1968, 1963, 1976, 1975, 1961,\n",
       "       1978, 1972, 1970, 1973, 1951, 1966, 1962, 1971, 1952, 1977, 1964,\n",
       "       1942], dtype=int64)"
      ]
     },
     "execution_count": 6,
     "metadata": {},
     "output_type": "execute_result"
    }
   ],
   "source": [
    "dat.Year.unique()"
   ]
  },
  {
   "cell_type": "code",
   "execution_count": 7,
   "metadata": {},
   "outputs": [
    {
     "data": {
      "text/plain": [
       "Text(0.5, 1.0, 'top 5 car brands on website being sold')"
      ]
     },
     "execution_count": 7,
     "metadata": {},
     "output_type": "execute_result"
    },
    {
     "data": {
      "image/png": "[encoded data removed]",
      "text/plain": [
       "<Figure size 640x480 with 1 Axes>"
      ]
     },
     "metadata": {},
     "output_type": "display_data"
    }
   ],
   "source": [
    "#top 5-10 car brands that have their cars on the website \n",
    "dat[\"brand\"].value_counts().head(5).plot(kind=\"barh\")\n",
    "plt.title(\"top 5 car brands on website being sold\")"
   ]
  },
  {
   "cell_type": "code",
   "execution_count": 8,
   "metadata": {},
   "outputs": [],
   "source": [
    "#create new dataset with top 5 car brands \n",
    "dat1 = pd.DataFrame({})\n",
    "idx = dat[\"brand\"].value_counts().head(5).index\n",
    "dat1 = dat[dat[\"brand\"].isin(idx)]"
   ]
  },
  {
   "cell_type": "code",
   "execution_count": 9,
   "metadata": {},
   "outputs": [
    {
     "data": {
      "text/html": [
       "<div>\n",
       "<style scoped>\n",
       "    .dataframe tbody tr th:only-of-type {\n",
       "        vertical-align: middle;\n",
       "    }\n",
       "\n",
       "    .dataframe tbody tr th {\n",
       "        vertical-align: top;\n",
       "    }\n",
       "\n",
       "    .dataframe thead th {\n",
       "        text-align: right;\n",
       "    }\n",
       "</style>\n",
       "<table border=\"1\" class=\"dataframe\">\n",
       "  <thead>\n",
       "    <tr style=\"text-align: right;\">\n",
       "      <th></th>\n",
       "      <th>brand</th>\n",
       "      <th>fuel_type</th>\n",
       "      <th>model_date</th>\n",
       "      <th>vehicle_transmission</th>\n",
       "      <th>Car_name</th>\n",
       "      <th>Year</th>\n",
       "      <th>Location</th>\n",
       "      <th>mileage_from_odometer_km</th>\n",
       "      <th>vehicle_engine_cc</th>\n",
       "      <th>price_usd</th>\n",
       "    </tr>\n",
       "  </thead>\n",
       "  <tbody>\n",
       "    <tr>\n",
       "      <th>1</th>\n",
       "      <td>Toyota</td>\n",
       "      <td>Petrol</td>\n",
       "      <td>2012.0</td>\n",
       "      <td>Manual</td>\n",
       "      <td>Aygo</td>\n",
       "      <td>2012</td>\n",
       "      <td>Islamabad</td>\n",
       "      <td>68000.0</td>\n",
       "      <td>1000.0</td>\n",
       "      <td>5762.21</td>\n",
       "    </tr>\n",
       "    <tr>\n",
       "      <th>2</th>\n",
       "      <td>Honda</td>\n",
       "      <td>Petrol</td>\n",
       "      <td>2015.0</td>\n",
       "      <td>Automatic</td>\n",
       "      <td>City</td>\n",
       "      <td>2015</td>\n",
       "      <td>Lahore</td>\n",
       "      <td>150000.0</td>\n",
       "      <td>1300.0</td>\n",
       "      <td>9042.23</td>\n",
       "    </tr>\n",
       "    <tr>\n",
       "      <th>4</th>\n",
       "      <td>Toyota</td>\n",
       "      <td>Petrol</td>\n",
       "      <td>2015.0</td>\n",
       "      <td>Automatic</td>\n",
       "      <td>Corolla</td>\n",
       "      <td>2015</td>\n",
       "      <td>Rawalpindi</td>\n",
       "      <td>110000.0</td>\n",
       "      <td>1300.0</td>\n",
       "      <td>11879.01</td>\n",
       "    </tr>\n",
       "    <tr>\n",
       "      <th>5</th>\n",
       "      <td>Nissan</td>\n",
       "      <td>Petrol</td>\n",
       "      <td>2004.0</td>\n",
       "      <td>Automatic</td>\n",
       "      <td>March</td>\n",
       "      <td>2004</td>\n",
       "      <td>Karachi</td>\n",
       "      <td>100000.0</td>\n",
       "      <td>1000.0</td>\n",
       "      <td>3723.27</td>\n",
       "    </tr>\n",
       "    <tr>\n",
       "      <th>6</th>\n",
       "      <td>Honda</td>\n",
       "      <td>Petrol</td>\n",
       "      <td>2021.0</td>\n",
       "      <td>Automatic</td>\n",
       "      <td>Civic</td>\n",
       "      <td>2021</td>\n",
       "      <td>Islamabad</td>\n",
       "      <td>20500.0</td>\n",
       "      <td>1800.0</td>\n",
       "      <td>22250.98</td>\n",
       "    </tr>\n",
       "  </tbody>\n",
       "</table>\n",
       "</div>"
      ],
      "text/plain": [
       "    brand fuel_type  model_date vehicle_transmission  Car_name  Year  \\\n",
       "1  Toyota    Petrol      2012.0               Manual     Aygo   2012   \n",
       "2   Honda    Petrol      2015.0            Automatic     City   2015   \n",
       "4  Toyota    Petrol      2015.0            Automatic  Corolla   2015   \n",
       "5  Nissan    Petrol      2004.0            Automatic    March   2004   \n",
       "6   Honda    Petrol      2021.0            Automatic    Civic   2021   \n",
       "\n",
       "     Location  mileage_from_odometer_km  vehicle_engine_cc  price_usd  \n",
       "1   Islamabad                   68000.0             1000.0    5762.21  \n",
       "2      Lahore                  150000.0             1300.0    9042.23  \n",
       "4  Rawalpindi                  110000.0             1300.0   11879.01  \n",
       "5     Karachi                  100000.0             1000.0    3723.27  \n",
       "6   Islamabad                   20500.0             1800.0   22250.98  "
      ]
     },
     "execution_count": 9,
     "metadata": {},
     "output_type": "execute_result"
    }
   ],
   "source": [
    "dat1.head()"
   ]
  },
  {
   "cell_type": "code",
   "execution_count": 10,
   "metadata": {},
   "outputs": [],
   "source": [
    "#save df1\n",
    "dat1.to_csv(\"used_car_dataset_cleaned_top_5.csv\", index=0)"
   ]
  },
  {
   "cell_type": "code",
   "execution_count": 12,
   "metadata": {},
   "outputs": [
    {
     "data": {
      "image/png": "[encoded data removed]",
      "text/plain": [
       "<Figure size 1000x600 with 1 Axes>"
      ]
     },
     "metadata": {},
     "output_type": "display_data"
    }
   ],
   "source": [
    "plt.figure(figsize=(10,6))\n",
    "d = dat1[\"Year\"].value_counts().sort_values(ascending=False)[:10].plot(kind=\"barh\", title=\"Total cars listed by year\")\n",
    "\n",
    "for i in d.containers:\n",
    "  d.bar_label(i)\n",
    "\n",
    "plt.gca().xaxis.set_major_formatter(mtick.FuncFormatter(lambda x, _: \"{} \\nCars listed\".format(x)))"
   ]
  },
  {
   "cell_type": "code",
   "execution_count": 13,
   "metadata": {},
   "outputs": [
    {
     "data": {
      "image/png": "[encoded data removed]",
      "text/plain": [
       "<Figure size 640x480 with 1 Axes>"
      ]
     },
     "metadata": {},
     "output_type": "display_data"
    }
   ],
   "source": [
    "#what brand has the most manual/automatic - \n",
    "b = dat1.groupby(\"brand\")[[\"vehicle_transmission\"]].value_counts().reset_index().rename(columns={0:\"count\"})\n",
    "b = sns.barplot(data=b, x=\"brand\", y=\"count\", hue=\"vehicle_transmission\")\n",
    "plt.title(\"manual vs automatic\")\n",
    "for i in b.containers:\n",
    "    b.bar_label(i)\n"
   ]
  },
  {
   "cell_type": "code",
   "execution_count": 17,
   "metadata": {},
   "outputs": [
    {
     "data": {
      "text/plain": [
       "24860    400695.01\n",
       "Name: price_usd, dtype: float64"
      ]
     },
     "execution_count": 17,
     "metadata": {},
     "output_type": "execute_result"
    }
   ],
   "source": [
    "#most expensive car name --\n",
    "b = dat1.sort_values(by=\"price_usd\", ascending=False).head()\n",
    "b.head(1).price_usd"
   ]
  },
  {
   "attachments": {},
   "cell_type": "markdown",
   "metadata": {},
   "source": [
    "1. location where most of the cars are sold\n",
    "2. highest cc and what is the lowest \n",
    "3. mileage effect price "
   ]
  },
  {
   "cell_type": "code",
   "execution_count": 19,
   "metadata": {},
   "outputs": [
    {
     "data": {
      "text/html": [
       "<div>\n",
       "<style scoped>\n",
       "    .dataframe tbody tr th:only-of-type {\n",
       "        vertical-align: middle;\n",
       "    }\n",
       "\n",
       "    .dataframe tbody tr th {\n",
       "        vertical-align: top;\n",
       "    }\n",
       "\n",
       "    .dataframe thead th {\n",
       "        text-align: right;\n",
       "    }\n",
       "</style>\n",
       "<table border=\"1\" class=\"dataframe\">\n",
       "  <thead>\n",
       "    <tr style=\"text-align: right;\">\n",
       "      <th></th>\n",
       "      <th>brand</th>\n",
       "      <th>fuel_type</th>\n",
       "      <th>model_date</th>\n",
       "      <th>vehicle_transmission</th>\n",
       "      <th>Car_name</th>\n",
       "      <th>Year</th>\n",
       "      <th>Location</th>\n",
       "      <th>mileage_from_odometer_km</th>\n",
       "      <th>vehicle_engine_cc</th>\n",
       "      <th>price_usd</th>\n",
       "    </tr>\n",
       "  </thead>\n",
       "  <tbody>\n",
       "    <tr>\n",
       "      <th>1</th>\n",
       "      <td>Toyota</td>\n",
       "      <td>Petrol</td>\n",
       "      <td>2012.0</td>\n",
       "      <td>Manual</td>\n",
       "      <td>Aygo</td>\n",
       "      <td>2012</td>\n",
       "      <td>Islamabad</td>\n",
       "      <td>68000.0</td>\n",
       "      <td>1000.0</td>\n",
       "      <td>5762.21</td>\n",
       "    </tr>\n",
       "    <tr>\n",
       "      <th>2</th>\n",
       "      <td>Honda</td>\n",
       "      <td>Petrol</td>\n",
       "      <td>2015.0</td>\n",
       "      <td>Automatic</td>\n",
       "      <td>City</td>\n",
       "      <td>2015</td>\n",
       "      <td>Lahore</td>\n",
       "      <td>150000.0</td>\n",
       "      <td>1300.0</td>\n",
       "      <td>9042.23</td>\n",
       "    </tr>\n",
       "    <tr>\n",
       "      <th>4</th>\n",
       "      <td>Toyota</td>\n",
       "      <td>Petrol</td>\n",
       "      <td>2015.0</td>\n",
       "      <td>Automatic</td>\n",
       "      <td>Corolla</td>\n",
       "      <td>2015</td>\n",
       "      <td>Rawalpindi</td>\n",
       "      <td>110000.0</td>\n",
       "      <td>1300.0</td>\n",
       "      <td>11879.01</td>\n",
       "    </tr>\n",
       "    <tr>\n",
       "      <th>5</th>\n",
       "      <td>Nissan</td>\n",
       "      <td>Petrol</td>\n",
       "      <td>2004.0</td>\n",
       "      <td>Automatic</td>\n",
       "      <td>March</td>\n",
       "      <td>2004</td>\n",
       "      <td>Karachi</td>\n",
       "      <td>100000.0</td>\n",
       "      <td>1000.0</td>\n",
       "      <td>3723.27</td>\n",
       "    </tr>\n",
       "    <tr>\n",
       "      <th>6</th>\n",
       "      <td>Honda</td>\n",
       "      <td>Petrol</td>\n",
       "      <td>2021.0</td>\n",
       "      <td>Automatic</td>\n",
       "      <td>Civic</td>\n",
       "      <td>2021</td>\n",
       "      <td>Islamabad</td>\n",
       "      <td>20500.0</td>\n",
       "      <td>1800.0</td>\n",
       "      <td>22250.98</td>\n",
       "    </tr>\n",
       "  </tbody>\n",
       "</table>\n",
       "</div>"
      ],
      "text/plain": [
       "    brand fuel_type  model_date vehicle_transmission  Car_name  Year  \\\n",
       "1  Toyota    Petrol      2012.0               Manual     Aygo   2012   \n",
       "2   Honda    Petrol      2015.0            Automatic     City   2015   \n",
       "4  Toyota    Petrol      2015.0            Automatic  Corolla   2015   \n",
       "5  Nissan    Petrol      2004.0            Automatic    March   2004   \n",
       "6   Honda    Petrol      2021.0            Automatic    Civic   2021   \n",
       "\n",
       "     Location  mileage_from_odometer_km  vehicle_engine_cc  price_usd  \n",
       "1   Islamabad                   68000.0             1000.0    5762.21  \n",
       "2      Lahore                  150000.0             1300.0    9042.23  \n",
       "4  Rawalpindi                  110000.0             1300.0   11879.01  \n",
       "5     Karachi                  100000.0             1000.0    3723.27  \n",
       "6   Islamabad                   20500.0             1800.0   22250.98  "
      ]
     },
     "execution_count": 19,
     "metadata": {},
     "output_type": "execute_result"
    }
   ],
   "source": [
    "dat1.head()"
   ]
  }
 ],
 "metadata": {
  "kernelspec": {
   "display_name": "Python 3",
   "language": "python",
   "name": "python3"
  },
  "language_info": {
   "codemirror_mode": {
    "name": "ipython",
    "version": 3
   },
   "file_extension": ".py",
   "mimetype": "text/x-python",
   "name": "python",
   "nbconvert_exporter": "python",
   "pygments_lexer": "ipython3",
   "version": "3.11.2"
  },
  "orig_nbformat": 4
 },
 "nbformat": 4,
 "nbformat_minor": 2
}
